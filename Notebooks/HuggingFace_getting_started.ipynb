{
  "nbformat": 4,
  "nbformat_minor": 0,
  "metadata": {
    "colab": {
      "provenance": [],
      "authorship_tag": "ABX9TyN4IENoadf1kRH5hoz7PJxv",
      "include_colab_link": true
    },
    "kernelspec": {
      "name": "python3",
      "display_name": "Python 3"
    },
    "language_info": {
      "name": "python"
    }
  },
  "cells": [
    {
      "cell_type": "markdown",
      "metadata": {
        "id": "view-in-github",
        "colab_type": "text"
      },
      "source": [
        "<a href=\"https://colab.research.google.com/github/raphaelrcb/HuggingFace_Workshop/blob/main/Notebooks/HuggingFace_getting_started.ipynb\" target=\"_parent\"><img src=\"https://colab.research.google.com/assets/colab-badge.svg\" alt=\"Open In Colab\"/></a>"
      ]
    },
    {
      "cell_type": "markdown",
      "source": [
        "# Aprendizagem Com HuggingFace"
      ],
      "metadata": {
        "id": "DHcC54BY5tB-"
      }
    },
    {
      "cell_type": "markdown",
      "source": [],
      "metadata": {
        "id": "eqypvTI5S4cJ"
      }
    },
    {
      "cell_type": "code",
      "execution_count": null,
      "metadata": {
        "collapsed": true,
        "id": "fuqfQYw85fGk"
      },
      "outputs": [],
      "source": [
        "!pip install transformers datasets evaluate accelerate"
      ]
    },
    {
      "cell_type": "code",
      "source": [
        "pip install torch"
      ],
      "metadata": {
        "collapsed": true,
        "id": "eit8U53qTGd9"
      },
      "execution_count": null,
      "outputs": []
    },
    {
      "cell_type": "code",
      "source": [
        "pip install tensorflow"
      ],
      "metadata": {
        "collapsed": true,
        "id": "sI55RRX2TGXs"
      },
      "execution_count": null,
      "outputs": []
    },
    {
      "cell_type": "markdown",
      "source": [
        "# Utilizando a biblioteca Transformers e a função Pipeline"
      ],
      "metadata": {
        "id": "ri-Kpw1fW0co"
      }
    },
    {
      "cell_type": "markdown",
      "source": [
        "## Análise de Sentimento\n",
        "Através da Pipeline é possível fazer a Análise de Sentimento de um trecho de texto, dizendo se o texto é positivo ou negativo e a sua confiança. Se não especificado, o classificador carrega um modelo pré-treinado padrão (https://huggingface.co/distilbert/distilbert-base-uncased-finetuned-sst-2-english), e seu *tokeneizer*\n"
      ],
      "metadata": {
        "id": "xOi37N6gb2Yd"
      }
    },
    {
      "cell_type": "code",
      "source": [
        "from transformers import pipeline\n",
        "classifier = pipeline(\"sentiment-analysis\")"
      ],
      "metadata": {
        "collapsed": true,
        "id": "lqcuUtkuWpQk"
      },
      "execution_count": null,
      "outputs": []
    },
    {
      "cell_type": "code",
      "source": [
        "classifier(\"We will be champions tonight\")"
      ],
      "metadata": {
        "id": "QlgT-AcvXC5Q"
      },
      "execution_count": null,
      "outputs": []
    },
    {
      "cell_type": "code",
      "source": [
        "classifier(\"They broke up\")"
      ],
      "metadata": {
        "id": "K4Y_-HooXo0R"
      },
      "execution_count": null,
      "outputs": []
    },
    {
      "cell_type": "code",
      "source": [
        "classifier(\"They broke up, now I have a chance to go out with her\")"
      ],
      "metadata": {
        "id": "I5mOgXPxXtal"
      },
      "execution_count": null,
      "outputs": []
    },
    {
      "cell_type": "code",
      "source": [
        "results = classifier([\"We are very happy to show you the 🤗 Transformers library.\", \"We hope you don't hate it.\"])\n",
        "for result in results:\n",
        "    print(f\"label: {result['label']}, with score: {round(result['score'], 4)}\")\n"
      ],
      "metadata": {
        "id": "KKuXXczmYMmh"
      },
      "execution_count": null,
      "outputs": []
    },
    {
      "cell_type": "markdown",
      "source": [
        "## Iterando por datasets\n",
        "\n",
        "A função pipeline() também pode iterar através dos datasets para alguma tarefa necessária. Utilizando reconhecimento de fala automátido por exemplo, é importante carregar o dataset de áudios para que seja possível utilizar no código. Carregaremos o [MInDS-14](https://huggingface.co/datasets/PolyAI/minds14)"
      ],
      "metadata": {
        "id": "WZYd_sPIcKqn"
      }
    },
    {
      "cell_type": "code",
      "source": [
        "import torch\n",
        "from transformers import pipeline\n",
        "\n",
        "speech_recognizer = pipeline(\"automatic-speech-recognition\", model=\"facebook/wav2vec2-base-960h\")"
      ],
      "metadata": {
        "collapsed": true,
        "id": "FRLWM2TFcv6w"
      },
      "execution_count": null,
      "outputs": []
    },
    {
      "cell_type": "markdown",
      "source": [
        "É necessário garantir que a taxa de amostragem do dataset corresponde à taxa de amostragerm do modelo em que foi treinado, no caso: model=\"facebook/wav2vec2-base-960h\""
      ],
      "metadata": {
        "id": "YEuM7YqDgeKG"
      }
    },
    {
      "cell_type": "code",
      "source": [
        "from datasets import load_dataset, Audio\n",
        "\n",
        "dataset = load_dataset(\"PolyAI/minds14\", name=\"en-US\", split=\"train\")"
      ],
      "metadata": {
        "collapsed": true,
        "id": "AuokhQyMdKxF"
      },
      "execution_count": null,
      "outputs": []
    },
    {
      "cell_type": "code",
      "source": [
        "dataset = dataset.cast_column(\"audio\", Audio(sampling_rate=speech_recognizer.feature_extractor.sampling_rate))"
      ],
      "metadata": {
        "id": "DSoZHgIGgdm5"
      },
      "execution_count": null,
      "outputs": []
    },
    {
      "cell_type": "code",
      "source": [
        "result = speech_recognizer(dataset[3:7][\"audio\"])\n",
        "print([d[\"text\"] for d in result])"
      ],
      "metadata": {
        "id": "1u9lpY4Dd4-I"
      },
      "execution_count": null,
      "outputs": []
    },
    {
      "cell_type": "markdown",
      "source": [
        "## Utilizar outro modelo e _tokenizer_ na pipeline\n",
        "a pipeline consegue acomodar qualquer modelo do Hub, sendo fácil de adaptar a pipeline para outros casos de uso. Por exemplo, utilizar um modelo que poça usar outra língua."
      ],
      "metadata": {
        "id": "eGHrbQ1vdeQV"
      }
    },
    {
      "cell_type": "code",
      "source": [
        "model_name = \"citizenlab/twitter-xlm-roberta-base-sentiment-finetunned\""
      ],
      "metadata": {
        "id": "30unzT6gdo6V"
      },
      "execution_count": null,
      "outputs": []
    },
    {
      "cell_type": "markdown",
      "source": [
        "Utilize <u>AutoModelForSequenceClassification</u> e <u>AutoTokenizer</u> para carregar um modelo pré-treinado e seu _tokenizer_ associado.\n",
        "\n"
      ],
      "metadata": {
        "id": "68zSA1mUi_An"
      }
    },
    {
      "cell_type": "code",
      "source": [
        "from transformers import AutoTokenizer, AutoModelForSequenceClassification\n",
        "\n",
        "model = AutoModelForSequenceClassification.from_pretrained(model_name)\n",
        "tokenizer = AutoTokenizer.from_pretrained(model_name)"
      ],
      "metadata": {
        "id": "8XD5R91oj5Ib"
      },
      "execution_count": null,
      "outputs": []
    },
    {
      "cell_type": "code",
      "source": [
        "classifier = pipeline(\"sentiment-analysis\", model=model, tokenizer=tokenizer)\n",
        "classifier([\"Flamengo é o maior do mundo.\", \"No puedo creer que el Real Madrid haya perdido ante el Flamengo.\", \"Flamengo is world Champion\"])"
      ],
      "metadata": {
        "id": "pxcjLUDOkDn5"
      },
      "execution_count": null,
      "outputs": []
    },
    {
      "cell_type": "markdown",
      "source": [
        "Repetindo com o TensorFlow e outro modelo"
      ],
      "metadata": {
        "id": "tKsT4MYamoP6"
      }
    },
    {
      "cell_type": "code",
      "source": [
        "from transformers import AutoTokenizer, TFAutoModelForSequenceClassification\n",
        "model_name = \"nlptown/bert-base-multilingual-uncased-sentiment\"\n",
        "tf_model = TFAutoModelForSequenceClassification.from_pretrained(model_name)\n",
        "tokenizer = AutoTokenizer.from_pretrained(model_name)"
      ],
      "metadata": {
        "id": "mbggWLJ2msnP"
      },
      "execution_count": null,
      "outputs": []
    },
    {
      "cell_type": "code",
      "source": [
        "classifier = pipeline(\"sentiment-analysis\", model=model, tokenizer=tokenizer)\n",
        "classifier([\"Nous sommes très heureux de vous présenter la bibliothèque 🤗 Transformers.\", \"I hate this\", \"Yo no creo que ella es tan maligna\", \"FLAMENGO CAMPEÃO\"])"
      ],
      "metadata": {
        "id": "Shs8kKComv9G"
      },
      "execution_count": null,
      "outputs": []
    },
    {
      "cell_type": "markdown",
      "source": [
        "# AutoClass\n",
        "\n",
        "Uma <u>Autoclass</u> é um atalho que automaticamente busca a arquitetura de um modelo pré-treinado dado seu nome ou caminho. Só é necessário selecionar o Autoclass apropriada para a sua tarefa e classe de pré-processamento associada. Utilizando o exemplo anterior para replicar o resultado da pipeline():\n",
        "\n",
        "\n",
        "## AutoTokenizer\n",
        "\n",
        "Um _tokenizer_ é responsável por préprocessar um texto em um _array_ de números como entradas de um modelo. Existem diversas regras que fazem parte de um processo de _tokenização_, incluindo como separar a palavra e até qual nível as palavras devem ser separadas. O mais importante é lembrar que é necessário instanciar o _tokenizer_ com o mesmo nome de modelo para garantir que está sendo usado o mesmo processo de _tokenização_ que o modelo foi pré-treinado.\n",
        "\n",
        "\n",
        " https://huggingface.co/docs/transformers/en/tokenizer_summary\n",
        "\n"
      ],
      "metadata": {
        "id": "hR6uZC2pFYfn"
      }
    },
    {
      "cell_type": "code",
      "source": [
        "#Carregando um tokenizer com o AutoTokenizer\n",
        "from transformers import AutoTokenizer\n",
        "\n",
        "model_name = \"citizenlab/twitter-xlm-roberta-base-sentiment-finetunned\"\n",
        "#model_name = \"nlptown/bert-base-multilingual-uncased-sentiment\"\n",
        "tokenizer = AutoTokenizer.from_pretrained(model_name)"
      ],
      "metadata": {
        "id": "DTzIDuKQHKFb"
      },
      "execution_count": null,
      "outputs": []
    },
    {
      "cell_type": "code",
      "source": [
        "#Passando um texto para o tokenizer\n",
        "encoding = tokenizer(\"Flamengo é o maior do mundo.\")\n",
        "print(encoding)"
      ],
      "metadata": {
        "id": "w7hH5jhOH5Kw"
      },
      "execution_count": null,
      "outputs": []
    },
    {
      "cell_type": "markdown",
      "source": [
        "O tokenizer pode retornar um dicionário contendo:\n",
        "\n",
        "\n",
        "*   <u>input_ids</u>: representações numéricas dos tokens\n",
        "*   <u>attention_masks</u>: Indica quais tokens devem ser atendidos\n",
        "\n",
        "O tokenizer também aceita um lista de entradas, preenchendo e truncando o texto para retornart um lote com tamanho uniforme\n"
      ],
      "metadata": {
        "id": "ahmSgvH1Je7z"
      }
    },
    {
      "cell_type": "code",
      "source": [
        "#Com PyTorch\n",
        "pt_batch = tokenizer(\n",
        "    [\"Flamengo é o maior do mundo.\", \"No puedo creer que el Real Madrid haya perdido ante el Flamengo.\"],\n",
        "    padding=True,\n",
        "    truncation=True,\n",
        "    max_length=512,\n",
        "    return_tensors=\"pt\",\n",
        ")\n",
        "print(pt_batch)"
      ],
      "metadata": {
        "id": "mDiLgWi8JenL"
      },
      "execution_count": null,
      "outputs": []
    },
    {
      "cell_type": "code",
      "source": [
        "# Repetindo para o modelo Com TensorFlow\n",
        "\n",
        "from transformers import AutoTokenizer\n",
        "\n",
        "model_name = \"nlptown/bert-base-multilingual-uncased-sentiment\"\n",
        "tokenizer = AutoTokenizer.from_pretrained(model_name)\n",
        "\n",
        "tf_batch = tokenizer(\n",
        "    [\"Flamengo é o maior do mundo.\", \"No puedo creer que el Real Madrid haya perdido ante el Flamengo.\"],\n",
        "    padding=True,\n",
        "    truncation=True,\n",
        "    max_length=512,\n",
        "    return_tensors=\"tf\",\n",
        ")\n",
        "print(tf_batch)\n"
      ],
      "metadata": {
        "id": "80EBCfpgKY6J"
      },
      "execution_count": null,
      "outputs": []
    },
    {
      "cell_type": "markdown",
      "source": [
        "## AutoModel\n",
        "\n",
        "Transformers entrega uma forma simples e unificada de carregar instâncias pré-treinadas. Isso significa que carregar um <u>AutoModel</u> parece como carregar um <u>AutoTokenizer</u>. A única diferença é selecionar o  <u>AutoModel</u> correto para a tarefa. Para classificação de texto (ou de sequência), deve-se carregar o  <u>AutoModelForSequenceClassification</u>"
      ],
      "metadata": {
        "id": "FAtJAaIJKqfW"
      }
    },
    {
      "cell_type": "code",
      "source": [
        "from transformers import AutoModelForSequenceClassification\n",
        "\n",
        "model_name = \"citizenlab/twitter-xlm-roberta-base-sentiment-finetunned\"\n",
        "pt_model = AutoModelForSequenceClassification.from_pretrained(model_name)"
      ],
      "metadata": {
        "id": "55Yc2RTML9Ln"
      },
      "execution_count": null,
      "outputs": []
    },
    {
      "cell_type": "code",
      "source": [
        "## Para passar o lote pré-processado de entradas diretamente no modelo, deve-se apenas desenpacotar o dicionário adicionando **\n",
        "# com PyTorch\n",
        "pt_outputs = pt_model(**pt_batch)\n",
        "print(pt_outputs)"
      ],
      "metadata": {
        "id": "yqTBhL4nL_TZ"
      },
      "execution_count": null,
      "outputs": []
    },
    {
      "cell_type": "markdown",
      "source": [
        "O modelo tem a saída das ativações finais no atributo `logits`. Aplicando a função softmax, se recebe as probabilidades.:"
      ],
      "metadata": {
        "id": "QD2U9DdLO3Lm"
      }
    },
    {
      "cell_type": "code",
      "source": [
        "from torch import nn\n",
        "\n",
        "pt_predictions = nn.functional.softmax(pt_outputs.logits, dim=-1)\n",
        "print(pt_predictions)"
      ],
      "metadata": {
        "id": "f_tnJ7WgOuRk"
      },
      "execution_count": null,
      "outputs": []
    },
    {
      "cell_type": "code",
      "source": [
        "# Repetindo para o TensorFlow\n",
        "\n",
        "from transformers import TFAutoModelForSequenceClassification\n",
        "\n",
        "model_name = \"nlptown/bert-base-multilingual-uncased-sentiment\"\n",
        "tf_model = TFAutoModelForSequenceClassification.from_pretrained(model_name)\n",
        "\n",
        "## e passando o lote préprocessado direto para o modelo. Você pode passar o tensor como é\n",
        "\n",
        "tf_outputs = tf_model(tf_batch)\n",
        "print(tf_outputs)"
      ],
      "metadata": {
        "id": "EzOkIEqpPOeV"
      },
      "execution_count": null,
      "outputs": []
    },
    {
      "cell_type": "markdown",
      "source": [
        "O modelo tem a saída das ativações finais no atributo `logits`. Aplicando a função softmax, se recebe as probabilidades.:"
      ],
      "metadata": {
        "id": "Vo_36lDIP_yg"
      }
    },
    {
      "cell_type": "code",
      "source": [
        "import tensorflow as tf\n",
        "\n",
        "tf_predictions = tf.nn.softmax(tf_outputs.logits, axis=-1)\n",
        "tf_predictions"
      ],
      "metadata": {
        "id": "33cW9EiBQHLC"
      },
      "execution_count": null,
      "outputs": []
    },
    {
      "cell_type": "markdown",
      "source": [
        "# Salvar um Modelo"
      ],
      "metadata": {
        "id": "gAbTgOYCWbg6"
      }
    },
    {
      "cell_type": "code",
      "source": [
        "# PyTorch\n",
        "## Uma vez que seu modelo está pronto é possível salvá-lo junto de seu tokenizer usando PreTRainedModel.save_pre_trained()\n",
        "\n",
        "pt_save_directory = \"./pt_save_pretrained\"\n",
        "tokenizer.save_pretrained(pt_save_directory)\n",
        "pt_model.save_pretrained(pt_save_directory)"
      ],
      "metadata": {
        "id": "zOulaGL7QIS4"
      },
      "execution_count": null,
      "outputs": []
    },
    {
      "cell_type": "code",
      "source": [
        "# E pode carregá-lo novamente com AutoModelForSequenceClassification.from_pretrained()\n",
        "pt_model = AutoModelForSequenceClassification.from_pretrained(\"./pt_save_pretrained\")"
      ],
      "metadata": {
        "id": "6s-BadeoXkYg"
      },
      "execution_count": null,
      "outputs": []
    },
    {
      "cell_type": "code",
      "source": [
        "# Para o TensorFlow\n",
        "## Uma vez que seu modelo está pronto é possível salvá-lo junto de seu tokenizer usando TFPreTRainedModel.save_pre_trained()\n",
        "\n",
        "tf_save_directory = \"./tf_save_pretrained\"\n",
        "tokenizer.save_pretrained(tf_save_directory)\n",
        "tf_model.save_pretrained(tf_save_directory)"
      ],
      "metadata": {
        "id": "FGeVpr9OXvGo"
      },
      "execution_count": null,
      "outputs": []
    },
    {
      "cell_type": "code",
      "source": [
        "# E pode carregá-lo novamente com AutoModelForSequenceClassification.from_pretrained()\n",
        "tf_model = TFAutoModelForSequenceClassification.from_pretrained(\"./tf_save_pretrained\")"
      ],
      "metadata": {
        "id": "X-6hNieLX9Z1"
      },
      "execution_count": null,
      "outputs": []
    },
    {
      "cell_type": "markdown",
      "source": [
        "Uma característica interessante dos Transformers é a habilidade de salvar e recarregar um modelo tanto como PyTorch ou TensorFlow. o parâmetro `from__pt` e `from_tf` consegue fazer essa conversão\n"
      ],
      "metadata": {
        "id": "O81tDtLMYGQV"
      }
    },
    {
      "cell_type": "code",
      "source": [
        "from transformers import AutoModel\n",
        "\n",
        "tokenizer = AutoTokenizer.from_pretrained(tf_save_directory)\n",
        "pt_model = AutoModelForSequenceClassification.from_pretrained(tf_save_directory, from_tf=True)\n",
        "\n",
        "from transformers import TFAutoModel\n",
        "\n",
        "tokenizer = AutoTokenizer.from_pretrained(pt_save_directory)\n",
        "tf_model = TFAutoModelForSequenceClassification.from_pretrained(pt_save_directory, from_pt=True)"
      ],
      "metadata": {
        "id": "g3v7cXtoYFcO"
      },
      "execution_count": null,
      "outputs": []
    },
    {
      "cell_type": "markdown",
      "source": [
        "# Modelos Customizados\n",
        "\n",
        "É possível modificar e customizar a classe de configuração de modelos para mudar como ele é construído. A configuração especifíca os atributos do modelo, como o n~umero de camadas ocultas ou _attention heads_. Se começa do zero quando se inicializa um modelo de uma configuração de classe customizada. Os atributos do modelos são inicializados aleatóriamente e deve-se treinar o modelo antes de ser usado para conseguir resultados.\n",
        "\n",
        "Inicia-se importanto o AutoConfig e então carregando o modelo pré-treinado que se deseja modificar. Dentro de `AutoConfig.from_pretrained()` é possível especificar o atributo que se deseja mudar."
      ],
      "metadata": {
        "id": "wnntN5GSYwMn"
      }
    },
    {
      "cell_type": "code",
      "source": [
        "from transformers import AutoConfig\n",
        "\n",
        "custom_config = AutoConfig.from_pretrained(\"distilbert/distilbert-base-uncased\", n_heads=12)"
      ],
      "metadata": {
        "id": "8NRaGm9hYv-k"
      },
      "execution_count": null,
      "outputs": []
    },
    {
      "cell_type": "code",
      "source": [
        "# PyTorch\n",
        "## Criar um modelo da sua configuração customizada com AutoModel.from_config()\n",
        "\n",
        "from transformers import AutoModel\n",
        "\n",
        "custom_model = AutoModel.from_config(custom_config)\n"
      ],
      "metadata": {
        "id": "Gm4ZyVRA_UJd"
      },
      "execution_count": null,
      "outputs": []
    },
    {
      "cell_type": "code",
      "source": [
        "# TensorFlow\n",
        "## Criar um modelo da sua configuração customizada com TFAutoModel.from_config()\n",
        "\n",
        "from transformers import TFAutoModel\n",
        "\n",
        "custom_tf_model = TFAutoModel.from_config(custom_config)\n"
      ],
      "metadata": {
        "id": "YpLf5iIm_q9f"
      },
      "execution_count": null,
      "outputs": []
    },
    {
      "cell_type": "markdown",
      "source": [
        "Para mais informações criando um modelo customizado, dê uma olhada em [Criando uma arquitetura customizada](https://huggingface.co/docs/transformers/en/create_a_model)."
      ],
      "metadata": {
        "id": "HffwHhq8AUg5"
      }
    },
    {
      "cell_type": "markdown",
      "source": [
        "# Treinando - um loop de treinamento - otimizador no PyTorch\n",
        "\n",
        "Todos os modelos são padrão `torch.nn.Module` então pode-se utilizá-los em qualquer loop de treinamento. Enquanto é possível escrever o próprio loop de treinamento, os _Transformers_ fornecem uma classe <u>Trainer</u> de treinamento, que contêm o loop de treinamento básico e que adiciona funcionalidades adicionais para catacterísticas como treinamento distribuído, precisão mista e mais.\n",
        "\n",
        "\n",
        "Dependendo da tarefa, tipicamente se passa os seguintes parâmetros para o <u>Trainer</u>\n"
      ],
      "metadata": {
        "id": "QqaZaa9mAznz"
      }
    },
    {
      "cell_type": "markdown",
      "source": [
        "### 1. Começando com um <u>PreTrainedModel</u> ou um `torch.nn.Module`"
      ],
      "metadata": {
        "id": "QvEHC0DBCUK1"
      }
    },
    {
      "cell_type": "code",
      "source": [
        "from transformers import AutoModelForSequenceClassification\n",
        "\n",
        "model = AutoModelForSequenceClassification.from_pretrained(\"distilbert/distilbert-base-uncased\")"
      ],
      "metadata": {
        "id": "0k3Nb6X5AxdX"
      },
      "execution_count": null,
      "outputs": []
    },
    {
      "cell_type": "markdown",
      "source": [
        "### 2. <u>TrainingArguments</u> contêm os híper-parâmetros que podem ser alterados, como taxa de aprendizado, tamanho do lote, números de _epochs_ para treinamento. Se não se especificam os valores, os padrões são utilizados."
      ],
      "metadata": {
        "id": "tYFOH7ZxCuyS"
      }
    },
    {
      "cell_type": "code",
      "source": [
        "from transformers import TrainingArguments\n",
        "\n",
        "training_args = TrainingArguments(\n",
        "    output_dir=\"path/to/save/folder/\",\n",
        "    learning_rate=2e-5,\n",
        "    per_device_train_batch_size=8,\n",
        "    per_device_eval_batch_size=8,\n",
        "    num_train_epochs=2,\n",
        ")"
      ],
      "metadata": {
        "id": "ZQFpntT7DM71"
      },
      "execution_count": null,
      "outputs": []
    },
    {
      "cell_type": "markdown",
      "source": [
        "### 3. Carrega uma classe de pré-processamento como _tokenizer_, _image processor_, _feature extractor_, ou _processor_:"
      ],
      "metadata": {
        "id": "0ymPpfxeDNdw"
      }
    },
    {
      "cell_type": "code",
      "source": [
        "from transformers import AutoTokenizer\n",
        "\n",
        "tokenizer = AutoTokenizer.from_pretrained(\"distilbert/distilbert-base-uncased\")"
      ],
      "metadata": {
        "id": "jOXAJfo3DKRX"
      },
      "execution_count": null,
      "outputs": []
    },
    {
      "cell_type": "markdown",
      "source": [
        "### 4. Carregar um Dataset."
      ],
      "metadata": {
        "id": "14djQCVkEO73"
      }
    },
    {
      "cell_type": "code",
      "source": [
        "from datasets import load_dataset\n",
        "\n",
        "dataset = load_dataset(\"rotten_tomatoes\")  # doctest: +IGNORE_RESULT"
      ],
      "metadata": {
        "id": "EaOSAbMtETtk"
      },
      "execution_count": null,
      "outputs": []
    },
    {
      "cell_type": "markdown",
      "source": [
        "### 5. Criar uma função para _tokenizar_ o dataset e aplique o _dataset_ inteiro com <u>map</u>"
      ],
      "metadata": {
        "id": "5vR9J0w0EWNn"
      }
    },
    {
      "cell_type": "code",
      "source": [
        "def tokenize_dataset(dataset):\n",
        "    return tokenizer(dataset[\"text\"])\n",
        "\n",
        "\n",
        "dataset = dataset.map(tokenize_dataset, batched=True)"
      ],
      "metadata": {
        "id": "RlfVaadnEe5p"
      },
      "execution_count": null,
      "outputs": []
    },
    {
      "cell_type": "markdown",
      "source": [
        "### 6. Um <u>DataCollatorWithPadding</u> para criar um lote de exemplos para o seu dataset"
      ],
      "metadata": {
        "id": "aS5VL1zpEjLN"
      }
    },
    {
      "cell_type": "code",
      "source": [
        "from transformers import DataCollatorWithPadding\n",
        "\n",
        "data_collator = DataCollatorWithPadding(tokenizer=tokenizer)"
      ],
      "metadata": {
        "id": "kTCN7j2LE-Nb"
      },
      "execution_count": null,
      "outputs": []
    },
    {
      "cell_type": "markdown",
      "source": [
        "E junte todas essas classes em um <u>Trainer</u>"
      ],
      "metadata": {
        "id": "OOJi3hkGFFHE"
      }
    },
    {
      "cell_type": "code",
      "source": [
        "from transformers import Trainer\n",
        "\n",
        "trainer = Trainer(\n",
        "    model=model,\n",
        "    args=training_args,\n",
        "    train_dataset=dataset[\"train\"],\n",
        "    eval_dataset=dataset[\"test\"],\n",
        "    tokenizer=tokenizer,\n",
        "    data_collator=data_collator,\n",
        ")  # doctest: +SKIP"
      ],
      "metadata": {
        "id": "zyr7lXWSFLOi"
      },
      "execution_count": null,
      "outputs": []
    },
    {
      "cell_type": "markdown",
      "source": [
        "E quando estiver pronto, chame <u>train()</u> para iniciar o treinamento:"
      ],
      "metadata": {
        "id": "Jw2MZ6qFFRE-"
      }
    },
    {
      "cell_type": "code",
      "source": [
        "trainer.train()"
      ],
      "metadata": {
        "id": "I7VVJwSdFZus"
      },
      "execution_count": null,
      "outputs": []
    },
    {
      "cell_type": "markdown",
      "source": [
        "\n",
        "\n",
        "---\n",
        "\n",
        "Para tarefas - como tradução e sumarização - que utilizam modelo sequência a sequência, usa-se no lugar as classes <u>Seq2SeqTrainer</u> <u>Seq2SeqTrainingArguments</u>.\n",
        "\n",
        "---\n",
        "\n",
        "pode-se customizar o comportamento do loop de treinamento por <u>_subclassing_</u> os métodos de <u>Trainer</u>. Isso permite que se customize características como função de perda, otimizador e agendador. Isso pode ser visto com mais detalhes na documentação de [Trainer](https://huggingface.co/docs/transformers/v4.44.2/en/main_classes/trainer#transformers.Trainer) para quais métodos podem ser <u>subclasses</u>."
      ],
      "metadata": {
        "id": "DDFUIlHoFb8P"
      }
    },
    {
      "cell_type": "markdown",
      "source": [
        "# Treinando - com TensorFlow\n",
        "\n",
        "Todos os modelos são padrão `tf.keras.Model` então podem ser treinados com <u>TensorFLow</u> utilizando a API <u>Keras</u>. _Transformers_ provêm o método <u>prepare_tf_dataset()</u> para carregar seu dataset simplesmente como `tf.data.Dataset` então é possível começar o treinamento imediatamente com o compilador Keras e métodos <u>fit</u>\n",
        "\n",
        "\n",
        "Dependendo da tarefa, tipicamente se passa os seguintes parâmetros para o <u>Trainer</u>\n"
      ],
      "metadata": {
        "id": "_jhofTTfI482"
      }
    },
    {
      "cell_type": "markdown",
      "source": [
        "### 1. Começando com um <u>TFPreTrainedModel</u> ou um `tf.keras.Model`"
      ],
      "metadata": {
        "id": "ZPceP2GhI483"
      }
    },
    {
      "cell_type": "code",
      "source": [
        "from transformers import TFAutoModelForSequenceClassification\n",
        "\n",
        "model = TFAutoModelForSequenceClassification.from_pretrained(\"distilbert/distilbert-base-uncased\")"
      ],
      "metadata": {
        "id": "KV2uCiYxI483"
      },
      "execution_count": null,
      "outputs": []
    },
    {
      "cell_type": "markdown",
      "source": [
        "### 2. Carrega uma classe de pré-processamento como _tokenizer_, _image processor_, _feature extractor_, ou _processor_:"
      ],
      "metadata": {
        "id": "20utINtDI483"
      }
    },
    {
      "cell_type": "code",
      "source": [
        "from transformers import AutoTokenizer\n",
        "\n",
        "tokenizer = AutoTokenizer.from_pretrained(\"distilbert/distilbert-base-uncased\")"
      ],
      "metadata": {
        "id": "lxPsNIYQI484"
      },
      "execution_count": null,
      "outputs": []
    },
    {
      "cell_type": "markdown",
      "source": [
        "### 3. Criar uma função para _tokenizar_ o dataset"
      ],
      "metadata": {
        "id": "qp71JUDDI484"
      }
    },
    {
      "cell_type": "code",
      "source": [
        "def tokenize_dataset(dataset):\n",
        "    return tokenizer(dataset[\"text\"])  # doctest: +SKIP"
      ],
      "metadata": {
        "id": "qDf-S646I484"
      },
      "execution_count": null,
      "outputs": []
    },
    {
      "cell_type": "markdown",
      "source": [
        "### 4. Aplique o _tokenizer_ pelo dataset inteiro com <u>map</u> e então passe o dataset e o tokenizer para <u>prepare_tf_dataset()</u>. É possível mudar o tamanho do lote e embaralhar o dataset se preferir."
      ],
      "metadata": {
        "id": "Oj-0sicDI484"
      }
    },
    {
      "cell_type": "code",
      "source": [
        "dataset = dataset.map(tokenize_dataset)  # doctest: +SKIP\n",
        "tf_dataset = model.prepare_tf_dataset(\n",
        "    dataset[\"train\"], batch_size=16, shuffle=True, tokenizer=tokenizer\n",
        ")  # doctest: +SKIP"
      ],
      "metadata": {
        "id": "VXw4MLHJI484"
      },
      "execution_count": null,
      "outputs": []
    },
    {
      "cell_type": "markdown",
      "source": [
        "### 5. Quando estiver pronto, chame o `compile` e o `fit` para iniciar o treinamento. Nota-se que todos os modelos Transformers têm uma função _task-relevant_ padrão de função de perda, então não é necessário especificar um."
      ],
      "metadata": {
        "id": "ceRnfXIzLNYJ"
      }
    },
    {
      "cell_type": "code",
      "source": [
        "from tensorflow.keras.optimizers import Adam\n",
        "\n",
        "model.compile(optimizer='adam')  # No loss argument!\n",
        "model.fit(tf_dataset)  # doctest: +SKIP"
      ],
      "metadata": {
        "id": "h9Qwh9mKLuMe"
      },
      "execution_count": null,
      "outputs": []
    }
  ]
}